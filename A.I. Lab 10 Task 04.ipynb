{
 "cells": [
  {
   "cell_type": "code",
   "execution_count": 62,
   "metadata": {},
   "outputs": [
    {
     "name": "stdout",
     "output_type": "stream",
     "text": [
      "  weather temperature play\n",
      "0       2           1   no\n",
      "1       2           1   no\n",
      "2       0           1  yes\n",
      "3       1           2  yes\n",
      "4       1           0  yes\n",
      "Weather: [2 2 0 1 1 1 0 2 2 1 2 0 0 1]\n",
      "Temp: [1 1 1 2 0 0 0 2 0 2 2 2 1 2]\n",
      "Play [0 0 1 1 1 0 1 0 1 1 1 1 1 0]\n",
      "\n",
      "Predicted Value for 70:30 split (Naive Bayes): [1 0 1 0 1 1 1 0 1 0]\n",
      "Accuracy Score: 0.7\n",
      "Confusion Matrix:\n",
      " [[2 1]\n",
      " [2 5]]\n",
      "             precision    recall  f1-score   support\n",
      "\n",
      "          0       0.50      0.67      0.57         3\n",
      "          1       0.83      0.71      0.77         7\n",
      "\n",
      "avg / total       0.73      0.70      0.71        10\n",
      "\n",
      "[1.         0.66666667 0.66666667 0.66666667 0.5       ]\n",
      "\n",
      "Predicted Value for 70:30 split (SVM): [1 1 1 1 0 1 1 0 1 0]\n",
      "Accuracy Score: 0.8\n",
      "Confusion Matrix:\n",
      " [[2 1]\n",
      " [1 6]]\n",
      "             precision    recall  f1-score   support\n",
      "\n",
      "          0       0.67      0.67      0.67         3\n",
      "          1       0.86      0.86      0.86         7\n",
      "\n",
      "avg / total       0.80      0.80      0.80        10\n",
      "\n",
      "[0.66666667 0.66666667 0.33333333 0.66666667 0.5       ]\n"
     ]
    },
    {
     "data": {
      "text/plain": [
       "[<matplotlib.lines.Line2D at 0x19f0477c518>]"
      ]
     },
     "execution_count": 62,
     "metadata": {},
     "output_type": "execute_result"
    },
    {
     "data": {
      "image/png": "[encoded data removed]",
      "text/plain": [
       "<matplotlib.figure.Figure at 0x19f06a790b8>"
      ]
     },
     "metadata": {},
     "output_type": "display_data"
    }
   ],
   "source": [
    "import pandas as pd\n",
    "import numpy as np\n",
    "from sklearn.preprocessing import LabelEncoder\n",
    "from sklearn.naive_bayes import GaussianNB\n",
    "from sklearn import cross_validation\n",
    "from sklearn import svm\n",
    "from sklearn.model_selection import train_test_split\n",
    "from sklearn.metrics import accuracy_score\n",
    "from sklearn.metrics import confusion_matrix\n",
    "from sklearn.metrics import classification_report\n",
    "import matplotlib.pyplot as plt\n",
    "%matplotlib inline\n",
    "\n",
    "ds = pd.read_excel(\"G:\\\\UIT BS-SE Semester-VI Course Folders\\\\CS 321 - Artificial Intelligence\\\\Lab\\\\A.I. Lab 10\\\\weatherTemp.xlsx\");\n",
    "print(dataset.head())\n",
    "\n",
    "array = dataset.values;\n",
    "x = ds.iloc[:,0:2].values\n",
    "y = ds.iloc[:,2].values\n",
    "\n",
    "le = LabelEncoder()\n",
    "x[:,0]=le.fit_transform(x[:,0])\n",
    "x[:,1]=le.fit_transform(x[:,1])\n",
    "y=le.fit_transform(y)\n",
    "print(\"Weather:\",x[:,0])\n",
    "print(\"Temp:\",x[:,1])\n",
    "print(\"Play\",y)\n",
    "\n",
    "X_train, X_test, Y_train, Y_test = train_test_split(x,y,test_size=0.7,random_state=109)\n",
    "modelNB = GaussianNB()\n",
    "modelNB.fit(x,y)\n",
    "predicted = model.predict(X_test)\n",
    "print(\"\\nPredicted Value for 70:30 split (Naive Bayes):\", predicted)\n",
    "print(\"Accuracy Score:\",accuracy_score(Y_test, predicted))\n",
    "print(\"Confusion Matrix:\\n\",confusion_matrix(Y_test, predicted))\n",
    "print(classification_report(Y_test, predicted))\n",
    "\n",
    "modelNB = cross_validation.cross_val_score(modelNB,x,y,cv=5)\n",
    "print(modelNB)\n",
    "    \n",
    "plt.plot(modelNB,\"p\")\n",
    "\n",
    "X_train, X_test, Y_train, Y_test = train_test_split(x,y,test_size=0.7,random_state=47)\n",
    "modelSVM = svm.SVC(kernel='linear')\n",
    "modelSVM.fit(x,y)\n",
    "predicted = model.predict(X_test)\n",
    "print(\"\\nPredicted Value for 70:30 split (SVM):\", predicted)\n",
    "print(\"Accuracy Score:\",accuracy_score(Y_test, predicted))\n",
    "print(\"Confusion Matrix:\\n\",confusion_matrix(Y_test, predicted))\n",
    "print(classification_report(Y_test, predicted))\n",
    "\n",
    "modelSVM = cross_validation.cross_val_score(modelSVM,x,y,cv=5)\n",
    "print(modelSVM)\n",
    "    \n",
    "plt.plot(modelSVM,\"p\")\n"
   ]
  },
  {
   "cell_type": "code",
   "execution_count": null,
   "metadata": {
    "collapsed": true
   },
   "outputs": [],
   "source": []
  },
  {
   "cell_type": "code",
   "execution_count": null,
   "metadata": {
    "collapsed": true
   },
   "outputs": [],
   "source": []
  },
  {
   "cell_type": "code",
   "execution_count": null,
   "metadata": {
    "collapsed": true
   },
   "outputs": [],
   "source": []
  }
 ],
 "metadata": {
  "kernelspec": {
   "display_name": "Python 3",
   "language": "python",
   "name": "python3"
  },
  "language_info": {
   "codemirror_mode": {
    "name": "ipython",
    "version": 3
   },
   "file_extension": ".py",
   "mimetype": "text/x-python",
   "name": "python",
   "nbconvert_exporter": "python",
   "pygments_lexer": "ipython3",
   "version": "3.7.7"
  }
 },
 "nbformat": 4,
 "nbformat_minor": 2
}
