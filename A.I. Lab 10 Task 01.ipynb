{
 "cells": [
  {
   "cell_type": "code",
   "execution_count": 3,
   "metadata": {},
   "outputs": [
    {
     "name": "stdout",
     "output_type": "stream",
     "text": [
      "Weather: [2 2 0 1 1 1 0 2 2 1 2 0 0 1]\n",
      "Temp: [1 1 1 2 0 0 0 2 0 2 2 2 1 2]\n",
      "Play [0 0 1 1 1 0 1 0 1 1 1 1 1 0]\n",
      "Predicted Value: [1]\n",
      "Predicted Value: [1 0 1 0 1]\n",
      "0.4\n",
      "[[0 1]\n",
      " [2 2]]\n",
      "             precision    recall  f1-score   support\n",
      "\n",
      "          0       0.00      0.00      0.00         1\n",
      "          1       0.67      0.50      0.57         4\n",
      "\n",
      "avg / total       0.53      0.40      0.46         5\n",
      "\n"
     ]
    }
   ],
   "source": [
    "import pandas as pd\n",
    "import numpy as np\n",
    "from sklearn.preprocessing import MinMaxScaler\n",
    "from sklearn.preprocessing import LabelEncoder\n",
    "from sklearn.naive_bayes import GaussianNB\n",
    "from sklearn.model_selection import train_test_split\n",
    "from sklearn.metrics import accuracy_score\n",
    "from sklearn.metrics import confusion_matrix\n",
    "from sklearn.metrics import classification_report\n",
    "\n",
    "ds = pd.read_excel(\"G:\\\\UIT BS-SE Semester-VI Course Folders\\\\CS 321 - Artificial Intelligence\\\\Lab\\\\A.I. Lab 10\\\\weatherTemp.xlsx\")\n",
    "x = ds.iloc[:,0:2].values\n",
    "y = ds.iloc[:,2].values\n",
    "\n",
    "le = LabelEncoder()\n",
    "x[:,0]=le.fit_transform(x[:,0])\n",
    "x[:,1]=le.fit_transform(x[:,1])\n",
    "y=le.fit_transform(y)\n",
    "print(\"Weather:\",x[:,0])\n",
    "print(\"Temp:\",x[:,1])\n",
    "print(\"Play\",y)\n",
    "\n",
    "model = GaussianNB()\n",
    "model.fit(x,y)\n",
    "prediction = model.predict([[0,1]])\n",
    "print(\"Predicted Value:\", prediction)\n",
    "\n",
    "X_train, X_test, Y_train, Y_test = train_test_split(x,y,test_size=0.3,random_state=109)\n",
    "model = GaussianNB()\n",
    "model.fit(x,y)\n",
    "predicted = model.predict(X_test)\n",
    "print(\"Predicted Value:\", predicted)\n",
    "\n",
    "print(accuracy_score(Y_test, predicted))\n",
    "print(confusion_matrix(Y_test, predicted))\n",
    "print(classification_report(Y_test, predicted))\n",
    "\n",
    "\n"
   ]
  },
  {
   "cell_type": "code",
   "execution_count": null,
   "metadata": {
    "collapsed": true
   },
   "outputs": [],
   "source": []
  }
 ],
 "metadata": {
  "kernelspec": {
   "display_name": "Python 3",
   "language": "python",
   "name": "python3"
  },
  "language_info": {
   "codemirror_mode": {
    "name": "ipython",
    "version": 3
   },
   "file_extension": ".py",
   "mimetype": "text/x-python",
   "name": "python",
   "nbconvert_exporter": "python",
   "pygments_lexer": "ipython3",
   "version": "3.7.7"
  }
 },
 "nbformat": 4,
 "nbformat_minor": 2
}
