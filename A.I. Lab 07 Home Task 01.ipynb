{
 "cells": [
  {
   "cell_type": "code",
   "execution_count": 3,
   "metadata": {},
   "outputs": [
    {
     "ename": "SyntaxError",
     "evalue": "invalid syntax (<ipython-input-3-5606ddf1ed82>, line 17)",
     "output_type": "error",
     "traceback": [
      "\u001b[1;36m  File \u001b[1;32m\"<ipython-input-3-5606ddf1ed82>\"\u001b[1;36m, line \u001b[1;32m17\u001b[0m\n\u001b[1;33m    .map(plt.scatter, \"REGION-CENTROID-COL\", \"REGION-CENTROID-ROW\", s=150).add_legend()\u001b[0m\n\u001b[1;37m    ^\u001b[0m\n\u001b[1;31mSyntaxError\u001b[0m\u001b[1;31m:\u001b[0m invalid syntax\n"
     ]
    }
   ],
   "source": [
    "import numpy as np\n",
    "import pandas as pd\n",
    "#import warnings\n",
    "import seaborn as sns\n",
    "import matplotlib.pyplot as plt\n",
    "\n",
    "from sklearn import preprocessing\n",
    "\n",
    "name = ['REGION-CENTROID-COL', 'REGION-CENTROID-ROW', 'REGION-PIXEL-COUNT', 'SHORT-LINE-DENSITY-5', 'SHORT-LINE-DENSITY-2',\n",
    "        'VEDGE-MEAN', 'VEDGE-SD', 'HEDGE-MEAN','HEDGE-SD', 'INTENSITY-MEAN', 'RAWRED-MEAN', 'RAWBLUE-MEAN', 'RAWGREEN-MEAN',\n",
    "        'EXRED-MEAN', 'EXBLUE-MEAN', 'EXGREEN-MEAN', 'VALUE-MEAN', 'SATURATION-MEAN', 'HUE-MEAN']\n",
    "\n",
    "segmentation = pd.read_csv(r\"G:\\UIT BS-SE Semester-VI Course Folders\\CS 321 - Artificial Intelligence\\Lab\\A.I. Lab 07\\segmentation.data\", names=name)\n",
    "\n",
    "sns.set(font_scale=2.0) \n",
    "\n",
    ".map(plt.scatter, \"REGION-CENTROID-COL\", \"REGION-CENTROID-ROW\", s=150)\\\n",
    ".add_legend()  \n",
    "plt.show()\n",
    "sns.set(font_scale=1.6, rc={'figure.figsize':(12, 10)})\n",
    "sns.boxplot(x=\"class\", y=\"REGION-PIXEL-COUNT\", data=iris)\n",
    "plt.show()"
   ]
  },
  {
   "cell_type": "code",
   "execution_count": null,
   "metadata": {
    "collapsed": true
   },
   "outputs": [],
   "source": []
  }
 ],
 "metadata": {
  "kernelspec": {
   "display_name": "Python 3",
   "language": "python",
   "name": "python3"
  },
  "language_info": {
   "codemirror_mode": {
    "name": "ipython",
    "version": 3
   },
   "file_extension": ".py",
   "mimetype": "text/x-python",
   "name": "python",
   "nbconvert_exporter": "python",
   "pygments_lexer": "ipython3",
   "version": "3.6.2"
  }
 },
 "nbformat": 4,
 "nbformat_minor": 2
}
