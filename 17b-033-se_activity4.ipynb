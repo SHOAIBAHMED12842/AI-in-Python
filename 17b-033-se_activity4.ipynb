{
 "cells": [
  {
   "cell_type": "code",
   "execution_count": 1,
   "metadata": {},
   "outputs": [
    {
     "name": "stdout",
     "output_type": "stream",
     "text": [
      "TEXT IN FILE\n",
      "SHOAIB AHMED\n",
      "Total character in a file is:\n",
      "12\n",
      "Shingling by byte size\n",
      "\n",
      "Byte size is:\n",
      "61\n",
      "Enter byte size length :\n",
      "3\n",
      "ASCII code of text is:\n",
      "[83, 72, 79, 65, 73, 66, 65, 72, 77, 69, 68]\n",
      "\n",
      "The split of sentence is:\n",
      "['SHOAIB', 'AHMED']\n",
      "\n",
      "Bytes after shingling is:\n",
      "[83, 72, 79]\n",
      "[72, 79, 65]\n",
      "[79, 65, 73]\n",
      "[65, 73, 66]\n",
      "[73, 66, 65]\n",
      "[66, 65, 72]\n",
      "[65, 72, 77]\n",
      "[72, 77, 69]\n",
      "[77, 69, 68]\n"
     ]
    }
   ],
   "source": [
    "import sys\n",
    "introfile=open(\"17B-033-SETXT.txt\",\"r\")\n",
    "file_text = introfile.read()\n",
    "print(\"TEXT IN FILE\")\n",
    "print(file_text )\n",
    "print(\"Total character in a file is:\")\n",
    "print(len(file_text) )\n",
    "print(\"Shingling by byte size\\n\")\n",
    "print(\"Byte size is:\")\n",
    "print(sys.getsizeof(file_text))\n",
    "print(\"Enter byte size length :\")\n",
    "shingleLength = int(input())\n",
    "split_text = file_text.split()\n",
    "print(\"ASCII code of text is:\") \n",
    "txt=[]        \n",
    "for i in split_text:\n",
    "    txt.extend(ord(num) for num in i) \n",
    "print(str(txt))\n",
    "print(\"\\nThe split of sentence is:\")\n",
    "print(split_text)\n",
    "print(\"\\nBytes after shingling is:\")\n",
    "for i in range(len(txt) - shingleLength + 1): \n",
    "    if len(txt) < len(file_text): \n",
    "        print(txt[i:i+shingleLength])"
   ]
  },
  {
   "cell_type": "code",
   "execution_count": null,
   "metadata": {},
   "outputs": [],
   "source": []
  },
  {
   "cell_type": "code",
   "execution_count": null,
   "metadata": {},
   "outputs": [],
   "source": []
  },
  {
   "cell_type": "code",
   "execution_count": 8,
   "metadata": {},
   "outputs": [
    {
     "name": "stdout",
     "output_type": "stream",
     "text": [
      "TEXT IN IMAGE\n",
      "SHOAIB AHMED\n",
      "\f",
      "\n",
      "Total character in a file is:\n",
      "14\n",
      "Shingling by byte size with image\n",
      "\n",
      "Byte size is:\n",
      "63\n",
      "Enter byte size length :\n",
      "3\n",
      "ASCII code of text is:\n",
      "[83, 72, 79, 65, 73, 66, 65, 72, 77, 69, 68]\n",
      "\n",
      "The split of sentence is:\n",
      "['SHOAIB', 'AHMED']\n",
      "\n",
      "Bytes after shingling is:\n",
      "[83, 72, 79]\n",
      "[72, 79, 65]\n",
      "[79, 65, 73]\n",
      "[65, 73, 66]\n",
      "[73, 66, 65]\n",
      "[66, 65, 72]\n",
      "[65, 72, 77]\n",
      "[72, 77, 69]\n",
      "[77, 69, 68]\n"
     ]
    }
   ],
   "source": [
    "import sys\n",
    "import pytesseract as tess\n",
    "tess.pytesseract.tesseract_cmd = r'C:\\Program Files\\Tesseract-OCR\\tesseract'\n",
    "from PIL import Image\n",
    "txtimg=Image.open('Capture.JPG')\n",
    "file_text=tess.image_to_string(txtimg)\n",
    "print(\"TEXT IN IMAGE\")\n",
    "print(file_text )\n",
    "print(\"Total character in a file is:\")\n",
    "print(len(file_text) )\n",
    "print(\"Shingling by byte size with image\\n\")\n",
    "print(\"Byte size is:\")\n",
    "print(sys.getsizeof(file_text))\n",
    "print(\"Enter byte size length :\")\n",
    "shingleLength = int(input())\n",
    "split_text = file_text.split()\n",
    "print(\"ASCII code of text is:\") \n",
    "txt=[]        \n",
    "for i in split_text:\n",
    "    txt.extend(ord(num) for num in i) \n",
    "print(str(txt))\n",
    "print(\"\\nThe split of sentence is:\")\n",
    "print(split_text)\n",
    "print(\"\\nBytes after shingling is:\")\n",
    "for i in range(len(txt) - shingleLength + 1): \n",
    "    if len(txt) < len(file_text): \n",
    "        print(txt[i:i+shingleLength])"
   ]
  },
  {
   "cell_type": "code",
   "execution_count": null,
   "metadata": {},
   "outputs": [],
   "source": []
  }
 ],
 "metadata": {
  "kernelspec": {
   "display_name": "Python 3",
   "language": "python",
   "name": "python3"
  },
  "language_info": {
   "codemirror_mode": {
    "name": "ipython",
    "version": 3
   },
   "file_extension": ".py",
   "mimetype": "text/x-python",
   "name": "python",
   "nbconvert_exporter": "python",
   "pygments_lexer": "ipython3",
   "version": "3.7.7"
  }
 },
 "nbformat": 4,
 "nbformat_minor": 4
}
