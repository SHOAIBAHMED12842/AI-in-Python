{
 "cells": [
  {
   "cell_type": "code",
   "execution_count": 181,
   "metadata": {},
   "outputs": [
    {
     "data": {
      "text/plain": [
       "9"
      ]
     },
     "execution_count": 181,
     "metadata": {},
     "output_type": "execute_result"
    }
   ],
   "source": [
    "def Index_Array_Search(): \n",
    "    Array = [-10, -1, 0,2 , 3, 4,5 , 6, 7,9]\n",
    "    n = len(Array) \n",
    "    counter=-1\n",
    "    for i in range(n): \n",
    "        if (Array[i] == i): \n",
    "            counter=i\n",
    "            break\n",
    "    \n",
    "    if (counter!=-1):\n",
    "        return counter\n",
    "    else:\n",
    "        return -1\n",
    "        \n",
    "Index_Array_Search()"
   ]
  },
  {
   "cell_type": "code",
   "execution_count": 12,
   "metadata": {},
   "outputs": [
    {
     "name": "stdout",
     "output_type": "stream",
     "text": [
      "Element is present at index 3\n"
     ]
    }
   ],
   "source": [
    "# Python 3 program for recursive binary search. \n",
    "# Modifications needed for the older Python 2 are found in comments. \n",
    "  \n",
    "# Returns index of x in arr if present, else -1 \n",
    "def binary_search(arr, low, high, x): \n",
    "  \n",
    "    # Check base case \n",
    "    if high >= low: \n",
    "  \n",
    "        mid = (high + low) // 2\n",
    "  \n",
    "        # If element is present at the middle itself \n",
    "        if arr[mid] == x: \n",
    "            return mid \n",
    "  \n",
    "        # If element is smaller than mid, then it can only \n",
    "        # be present in left subarray \n",
    "        elif arr[mid] > x: \n",
    "            return binary_search(arr, low, mid - 1, x) \n",
    "  \n",
    "        # Else the element can only be present in right subarray \n",
    "        else: \n",
    "            return binary_search(arr, mid + 1, high, x) \n",
    "  \n",
    "    else: \n",
    "        # Element is not present in the array \n",
    "        return -1\n",
    "  \n",
    "arr = [ 2, 3, 4, 10, 40 ] \n",
    "x = 10\n",
    "  \n",
    "# Function call \n",
    "result = binary_search(arr, 0, len(arr)-1, x) \n",
    "  \n",
    "if result != -1: \n",
    "    print(\"Element is present at index\", str(result)) \n",
    "else: \n",
    "    print(\"Element is not present in array\") "
   ]
  },
  {
   "cell_type": "code",
   "execution_count": 145,
   "metadata": {},
   "outputs": [
    {
     "name": "stdout",
     "output_type": "stream",
     "text": [
      "Fixed Point is 8\n"
     ]
    }
   ],
   "source": [
    "# Python program to check fixed point  \n",
    "# in an array using linear search \n",
    "def linearSearch(arr, n): \n",
    "    for i in range(n): \n",
    "        if arr[i] is i: \n",
    "            return i \n",
    "    # If no fixed point present then return -1 \n",
    "    return -1\n",
    "  \n",
    "# Driver program to check above functions \n",
    "arr = [-10, -1, 0, 2, 3, 4, 5, 6, 8] \n",
    "n = len(arr) \n",
    "print(\"Fixed Point is \" + str(linearSearch(arr,n))) \n",
    "  \n",
    "# This code is contributed by Pratik Chhajer "
   ]
  },
  {
   "cell_type": "code",
   "execution_count": 188,
   "metadata": {},
   "outputs": [
    {
     "name": "stdout",
     "output_type": "stream",
     "text": [
      "ANeighbours are ['A', 'B']\n",
      "Neighbours are ['A', 'B', 'C']\n",
      "Neighbours are ['A', 'B', 'C', 'D']\n",
      "BCD"
     ]
    }
   ],
   "source": [
    "graph={\n",
    "    'A':['B','C','D'],\n",
    "    'B':[],\n",
    "    'C':[],\n",
    "    'D':[]\n",
    "}\n",
    "visited=[]\n",
    "queue=[]\n",
    "\n",
    "def undirectedgraph(visited, graph, node):\n",
    "    visited.append(node)\n",
    "    queue.append(node)\n",
    "    \n",
    "    while queue:\n",
    "        p=queue.pop(0)\n",
    "        print(p,end=\"\")\n",
    "        if p=='G':\n",
    "            print(\"\\nGoal Found\")\n",
    "            return\n",
    "        for neighbour in graph[p]:\n",
    "            if neighbour not in visited:\n",
    "                visited.append(neighbour)\n",
    "                queue.append(neighbour)\n",
    "                print(\"Neighbours are\",visited)\n",
    "\n",
    "undirectedgraph(visited, graph, 'A')\n"
   ]
  },
  {
   "cell_type": "code",
   "execution_count": null,
   "metadata": {},
   "outputs": [],
   "source": []
  }
 ],
 "metadata": {
  "kernelspec": {
   "display_name": "Python 3",
   "language": "python",
   "name": "python3"
  },
  "language_info": {
   "codemirror_mode": {
    "name": "ipython",
    "version": 3
   },
   "file_extension": ".py",
   "mimetype": "text/x-python",
   "name": "python",
   "nbconvert_exporter": "python",
   "pygments_lexer": "ipython3",
   "version": "3.7.4"
  }
 },
 "nbformat": 4,
 "nbformat_minor": 2
}
